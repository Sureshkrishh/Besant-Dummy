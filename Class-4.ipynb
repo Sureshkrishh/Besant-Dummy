{
 "cells": [
  {
   "cell_type": "code",
   "execution_count": 11,
   "id": "7b81db06",
   "metadata": {},
   "outputs": [
    {
     "name": "stdout",
     "output_type": "stream",
     "text": [
      "True\n",
      "False\n",
      "False\n",
      "True\n",
      "True\n"
     ]
    }
   ],
   "source": [
    "# Membership operator - in, not in\n",
    "\n",
    "print('py' in 'python')\n",
    "print('pt' in 'python')\n",
    "print('Py' in 'python')\n",
    "print('on' in 'python')\n",
    "print('no' not in 'python')"
   ]
  },
  {
   "cell_type": "code",
   "execution_count": 19,
   "id": "c9f7d2b1",
   "metadata": {},
   "outputs": [
    {
     "name": "stdout",
     "output_type": "stream",
     "text": [
      "0.0\n",
      "0\n",
      "0\n",
      "1\n",
      "\n",
      "0\n",
      "1\n",
      "1\n",
      "1.1\n"
     ]
    }
   ],
   "source": [
    "# Logical operator - and, or\n",
    "\n",
    "# AND\n",
    "print(0.0 and 0)\n",
    "print(0 and 1)\n",
    "print(1 and 0)\n",
    "print(1.1 and 1)\n",
    "print()\n",
    "\n",
    "# OR\n",
    "print(0.0 or 0)\n",
    "print(0 or 1)\n",
    "print(1 or 0)\n",
    "print(1.1 or 1)"
   ]
  },
  {
   "cell_type": "code",
   "execution_count": 26,
   "id": "8c9bc9ca",
   "metadata": {},
   "outputs": [
    {
     "name": "stdout",
     "output_type": "stream",
     "text": [
      "False\n",
      "False\n",
      "False\n",
      "False\n"
     ]
    }
   ],
   "source": [
    "print(('k' in 'chennai') and ('T' in 'Theni'))\n",
    "print(('k' in 'chennai') and (10 == 100))\n",
    "print(('k' in 'chennai') or (10 == 100))\n",
    "print((('k' in 'chennai') and ('T' in 'Theni')) or (20 > 5))"
   ]
  },
  {
   "cell_type": "code",
   "execution_count": 46,
   "id": "946f203d",
   "metadata": {},
   "outputs": [
    {
     "name": "stdout",
     "output_type": "stream",
     "text": [
      "65\n",
      "97\n",
      "8\n",
      "37\n",
      "125\n"
     ]
    }
   ],
   "source": [
    "print(ord('A'))\n",
    "print(ord('a'))\n",
    "print(chr(56))\n",
    "print(ord('%'))\n",
    "print(ord('}'))"
   ]
  },
  {
   "cell_type": "code",
   "execution_count": 42,
   "id": "f5892ec6",
   "metadata": {},
   "outputs": [
    {
     "name": "stdout",
     "output_type": "stream",
     "text": [
      "0b10010110000\n",
      "0x4b0\n",
      "0o2260\n"
     ]
    }
   ],
   "source": [
    "print(bin(1200))\n",
    "print(hex(1200))\n",
    "print(oct(1200))"
   ]
  },
  {
   "cell_type": "code",
   "execution_count": 43,
   "id": "bd38d91b",
   "metadata": {},
   "outputs": [
    {
     "name": "stdout",
     "output_type": "stream",
     "text": [
      "0x4b0\n",
      "0o2260\n",
      "1200\n"
     ]
    }
   ],
   "source": [
    "print(hex(0b10010110000))\n",
    "print(oct(0b10010110000))\n",
    "print(int(0b10010110000))"
   ]
  },
  {
   "cell_type": "code",
   "execution_count": 44,
   "id": "160bfc46",
   "metadata": {},
   "outputs": [
    {
     "name": "stdout",
     "output_type": "stream",
     "text": [
      "0b10010110000\n",
      "0o2260\n",
      "1200\n"
     ]
    }
   ],
   "source": [
    "print(bin(0x4b0))\n",
    "print(oct(0x4b0))\n",
    "print(int(0x4b0))"
   ]
  },
  {
   "cell_type": "code",
   "execution_count": null,
   "id": "6c249893",
   "metadata": {},
   "outputs": [],
   "source": []
  },
  {
   "cell_type": "code",
   "execution_count": null,
   "id": "945585ed",
   "metadata": {},
   "outputs": [],
   "source": []
  },
  {
   "cell_type": "code",
   "execution_count": null,
   "id": "36967718",
   "metadata": {},
   "outputs": [],
   "source": []
  },
  {
   "cell_type": "code",
   "execution_count": null,
   "id": "a51041f9",
   "metadata": {},
   "outputs": [],
   "source": []
  }
 ],
 "metadata": {
  "kernelspec": {
   "display_name": "Python 3 (ipykernel)",
   "language": "python",
   "name": "python3"
  },
  "language_info": {
   "codemirror_mode": {
    "name": "ipython",
    "version": 3
   },
   "file_extension": ".py",
   "mimetype": "text/x-python",
   "name": "python",
   "nbconvert_exporter": "python",
   "pygments_lexer": "ipython3",
   "version": "3.9.12"
  }
 },
 "nbformat": 4,
 "nbformat_minor": 5
}
