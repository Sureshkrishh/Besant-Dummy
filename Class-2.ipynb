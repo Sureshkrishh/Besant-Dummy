{
 "cells": [
  {
   "cell_type": "markdown",
   "id": "1b585d53",
   "metadata": {},
   "source": [
    "### DATA TYPES"
   ]
  },
  {
   "cell_type": "code",
   "execution_count": null,
   "id": "136f1c28",
   "metadata": {},
   "outputs": [],
   "source": [
    "# esc - m - 1-5 -ctrl+enter"
   ]
  },
  {
   "cell_type": "code",
   "execution_count": null,
   "id": "019bb584",
   "metadata": {},
   "outputs": [],
   "source": [
    "# Datatypes\n",
    "    # 1. Fundamental - int, float, complex, boolean, string, None\n",
    "    # 2. Derived"
   ]
  },
  {
   "cell_type": "code",
   "execution_count": 1,
   "id": "617f1006",
   "metadata": {},
   "outputs": [
    {
     "name": "stdout",
     "output_type": "stream",
     "text": [
      "10\n",
      "<class 'int'>\n",
      "2096586451536\n"
     ]
    }
   ],
   "source": [
    "# Int\n",
    "a = 10\n",
    "print(a)\n",
    "print(type(a))\n",
    "print(id(a))"
   ]
  },
  {
   "cell_type": "code",
   "execution_count": 14,
   "id": "5e883e0a",
   "metadata": {},
   "outputs": [
    {
     "name": "stdout",
     "output_type": "stream",
     "text": [
      "2096672970736\n",
      "2096672971472\n",
      "False\n"
     ]
    }
   ],
   "source": [
    "# object reusability (-5 to 256)\n",
    "var1 = 5\n",
    "var2 = 5\n",
    "\n",
    "print(id(var1))\n",
    "print(id(var2))\n",
    "\n",
    "print(var1 is var2)"
   ]
  },
  {
   "cell_type": "code",
   "execution_count": 13,
   "id": "ab4d232f",
   "metadata": {},
   "outputs": [
    {
     "name": "stdout",
     "output_type": "stream",
     "text": [
      "12.0\n",
      "<class 'float'>\n",
      "2096672971536\n"
     ]
    }
   ],
   "source": [
    "# float\n",
    "\n",
    "flt = 12.0\n",
    "print(flt)\n",
    "print(type(flt))\n",
    "print(id(flt))\n",
    "# float doens't support object reusability"
   ]
  },
  {
   "cell_type": "code",
   "execution_count": 18,
   "id": "d99b7eda",
   "metadata": {},
   "outputs": [
    {
     "name": "stdout",
     "output_type": "stream",
     "text": [
      "(25+8j)\n",
      "<class 'complex'>\n",
      "2096700381712\n",
      "25.0\n",
      "8.0\n"
     ]
    }
   ],
   "source": [
    "# complex - (real+imag)\n",
    "\n",
    "cpx = 25+8j\n",
    "print(cpx)\n",
    "print(type(cpx))\n",
    "print(id(cpx))\n",
    "print(cpx.real)  # To extract real value\n",
    "print(cpx.imag)  # To extract imaginary value"
   ]
  },
  {
   "cell_type": "code",
   "execution_count": 22,
   "id": "31ca1b28",
   "metadata": {},
   "outputs": [
    {
     "name": "stdout",
     "output_type": "stream",
     "text": [
      "False\n",
      "<class 'bool'>\n",
      "140734914615432\n",
      "True\n"
     ]
    }
   ],
   "source": [
    "# boolean - True, False\n",
    "\n",
    "bln = False\n",
    "bln1 = False\n",
    "print(bln)\n",
    "print(type(bln))\n",
    "print(id(bln))\n",
    "\n",
    "print(bln is bln1)"
   ]
  },
  {
   "cell_type": "code",
   "execution_count": 23,
   "id": "554133dc",
   "metadata": {},
   "outputs": [
    {
     "name": "stdout",
     "output_type": "stream",
     "text": [
      "python class\n",
      "<class 'str'>\n",
      "2096701316208\n"
     ]
    }
   ],
   "source": [
    "# String\n",
    "\n",
    "strr = 'python class'\n",
    "print(strr)\n",
    "print(type(strr))\n",
    "print(id(strr))"
   ]
  },
  {
   "cell_type": "code",
   "execution_count": 28,
   "id": "46acfde7",
   "metadata": {},
   "outputs": [
    {
     "name": "stdout",
     "output_type": "stream",
     "text": [
      "False\n"
     ]
    }
   ],
   "source": [
    "a = 'Python'\n",
    "b = 'python'\n",
    "\n",
    "print(a is b)"
   ]
  },
  {
   "cell_type": "code",
   "execution_count": 35,
   "id": "a2cc01b1",
   "metadata": {},
   "outputs": [
    {
     "name": "stdout",
     "output_type": "stream",
     "text": [
      "This is python class\n",
      "This is krishna's class on python\n",
      "This is krishna's class on \"python\"\n"
     ]
    }
   ],
   "source": [
    "print('This is python class')\n",
    "print(\"This is krishna's class on python\")\n",
    "print('''This is krishna's class on \"python\"''')"
   ]
  },
  {
   "cell_type": "code",
   "execution_count": 36,
   "id": "14a084a6",
   "metadata": {},
   "outputs": [
    {
     "name": "stdout",
     "output_type": "stream",
     "text": [
      "None\n",
      "140734914665688\n",
      "<class 'NoneType'>\n"
     ]
    }
   ],
   "source": [
    "# None\n",
    "a = None\n",
    "print(a)\n",
    "print(id(a))\n",
    "print(type(a))"
   ]
  },
  {
   "cell_type": "code",
   "execution_count": 40,
   "id": "b138e32a",
   "metadata": {},
   "outputs": [
    {
     "name": "stdout",
     "output_type": "stream",
     "text": [
      "10 <class 'int'>\n",
      "10.0 <class 'float'>\n",
      "(10+0j) <class 'complex'>\n",
      "True <class 'bool'>\n"
     ]
    }
   ],
   "source": [
    "# Typecasting\n",
    "\n",
    "a = 10\n",
    "b = float(a)\n",
    "c = complex(a)\n",
    "d = bool(a)\n",
    "\n",
    "print(a, type(a))\n",
    "print(b, type(b))\n",
    "print(c, type(c))\n",
    "print(d, type(d))"
   ]
  },
  {
   "cell_type": "code",
   "execution_count": 45,
   "id": "3b28b65c",
   "metadata": {},
   "outputs": [
    {
     "name": "stdout",
     "output_type": "stream",
     "text": [
      "12\n",
      "(12.9999+0j)\n"
     ]
    }
   ],
   "source": [
    "flt = 12.9999\n",
    "print(int(flt))\n",
    "print(complex(flt))"
   ]
  },
  {
   "cell_type": "code",
   "execution_count": 52,
   "id": "2672e12b",
   "metadata": {},
   "outputs": [
    {
     "name": "stdout",
     "output_type": "stream",
     "text": [
      "True\n",
      "False\n",
      "False\n",
      "True\n"
     ]
    }
   ],
   "source": [
    "print(bool('0'))\n",
    "print(bool(0))\n",
    "print(bool(0.0))\n",
    "print(bool(0.000000000001))"
   ]
  },
  {
   "cell_type": "code",
   "execution_count": 54,
   "id": "89a48559",
   "metadata": {},
   "outputs": [
    {
     "ename": "ValueError",
     "evalue": "invalid literal for int() with base 10: 'python'",
     "output_type": "error",
     "traceback": [
      "\u001b[1;31m---------------------------------------------------------------------------\u001b[0m",
      "\u001b[1;31mValueError\u001b[0m                                Traceback (most recent call last)",
      "Input \u001b[1;32mIn [54]\u001b[0m, in \u001b[0;36m<cell line: 1>\u001b[1;34m()\u001b[0m\n\u001b[1;32m----> 1\u001b[0m \u001b[38;5;28mprint\u001b[39m(\u001b[38;5;28;43mint\u001b[39;49m\u001b[43m(\u001b[49m\u001b[38;5;124;43m'\u001b[39;49m\u001b[38;5;124;43mpython\u001b[39;49m\u001b[38;5;124;43m'\u001b[39;49m\u001b[43m)\u001b[49m)\n",
      "\u001b[1;31mValueError\u001b[0m: invalid literal for int() with base 10: 'python'"
     ]
    }
   ],
   "source": [
    "print(int('python'))"
   ]
  },
  {
   "cell_type": "code",
   "execution_count": null,
   "id": "09ea6d6b",
   "metadata": {},
   "outputs": [],
   "source": []
  },
  {
   "cell_type": "code",
   "execution_count": null,
   "id": "e3e5b42a",
   "metadata": {},
   "outputs": [],
   "source": []
  }
 ],
 "metadata": {
  "kernelspec": {
   "display_name": "Python 3 (ipykernel)",
   "language": "python",
   "name": "python3"
  },
  "language_info": {
   "codemirror_mode": {
    "name": "ipython",
    "version": 3
   },
   "file_extension": ".py",
   "mimetype": "text/x-python",
   "name": "python",
   "nbconvert_exporter": "python",
   "pygments_lexer": "ipython3",
   "version": "3.9.12"
  }
 },
 "nbformat": 4,
 "nbformat_minor": 5
}
