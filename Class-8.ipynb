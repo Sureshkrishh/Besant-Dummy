{
 "cells": [
  {
   "cell_type": "code",
   "execution_count": null,
   "id": "98a24971",
   "metadata": {},
   "outputs": [],
   "source": [
    "# while condition:\n",
    "#     code\n",
    "#     code\n",
    "#     code\n",
    "#     inc/dec"
   ]
  },
  {
   "cell_type": "code",
   "execution_count": 1,
   "id": "00809d85",
   "metadata": {},
   "outputs": [
    {
     "name": "stdout",
     "output_type": "stream",
     "text": [
      "T\n",
      "h\n",
      "i\n",
      "s\n",
      " \n",
      "i\n",
      "s\n",
      " \n",
      "p\n",
      "y\n",
      "t\n",
      "h\n",
      "o\n",
      "n\n",
      " \n",
      "c\n",
      "l\n",
      "a\n",
      "s\n",
      "s\n"
     ]
    }
   ],
   "source": [
    "strr = 'This is python class'\n",
    "\n",
    "cnt = 0\n",
    "while cnt < len(strr):\n",
    "    print(strr[cnt])\n",
    "    cnt += 1"
   ]
  },
  {
   "cell_type": "code",
   "execution_count": null,
   "id": "b3b5ae88",
   "metadata": {},
   "outputs": [],
   "source": [
    "# User defined functions\n",
    "\n",
    "# def function_name():   function definiton\n",
    "#     code\n",
    "#     code\n",
    "#     code\n",
    "\n",
    "# function_name()  function call"
   ]
  },
  {
   "cell_type": "code",
   "execution_count": 3,
   "id": "5b28fe09",
   "metadata": {},
   "outputs": [],
   "source": [
    "def addition():    # functionn definiton\n",
    "    x = int(input('Enter a number: '))\n",
    "    y = int(input('Enter a number: '))\n",
    "    res = x + y\n",
    "    print(res)"
   ]
  },
  {
   "cell_type": "code",
   "execution_count": 5,
   "id": "32edf26f",
   "metadata": {},
   "outputs": [
    {
     "name": "stdout",
     "output_type": "stream",
     "text": [
      "Enter a number: 10\n",
      "Enter a number: 20\n",
      "30\n"
     ]
    }
   ],
   "source": [
    "addition()"
   ]
  },
  {
   "cell_type": "code",
   "execution_count": 9,
   "id": "f81f052b",
   "metadata": {},
   "outputs": [],
   "source": [
    "# Input to the function - parameter, argument \n",
    "\n",
    "def add(x, y):   # parameter\n",
    "    '''This function will add two numbers\n",
    "    This function will add two numbers'''\n",
    "    res = x+y\n",
    "    print(res)"
   ]
  },
  {
   "cell_type": "code",
   "execution_count": 7,
   "id": "1d28c533",
   "metadata": {},
   "outputs": [
    {
     "name": "stdout",
     "output_type": "stream",
     "text": [
      "5\n"
     ]
    }
   ],
   "source": [
    "add(2, 3)   # argument  # shift+tab - to access function help"
   ]
  },
  {
   "cell_type": "code",
   "execution_count": 12,
   "id": "1b7c3a13",
   "metadata": {},
   "outputs": [],
   "source": [
    "# positional parameter/argument\n",
    "\n",
    "def diff(a, b):\n",
    "    res = a-b\n",
    "    print(res)"
   ]
  },
  {
   "cell_type": "code",
   "execution_count": 18,
   "id": "e113bf9b",
   "metadata": {},
   "outputs": [
    {
     "name": "stdout",
     "output_type": "stream",
     "text": [
      "Enter a number: 2\n",
      "Enter a number: 100\n",
      "98\n"
     ]
    }
   ],
   "source": [
    "x = int(input('Enter a number: '))\n",
    "y = int(input('Enter a number: '))\n",
    "if y>x:\n",
    "    diff(a=y, b=x)\n",
    "else:\n",
    "    diff(x,y)"
   ]
  },
  {
   "cell_type": "code",
   "execution_count": 21,
   "id": "8f31f7e3",
   "metadata": {},
   "outputs": [],
   "source": [
    "# default parameter\n",
    "\n",
    "def prod(a,b=1,c=1,d=1,e=1):\n",
    "    res = a*b*c*d*e\n",
    "    print(res)"
   ]
  },
  {
   "cell_type": "code",
   "execution_count": 23,
   "id": "03eccf74",
   "metadata": {},
   "outputs": [
    {
     "name": "stdout",
     "output_type": "stream",
     "text": [
      "6\n",
      "24\n",
      "120\n",
      "720\n"
     ]
    }
   ],
   "source": [
    "prod(2, 3)\n",
    "prod(2, 3, 4)\n",
    "prod(2, 3, 4, 5)\n",
    "prod(2, 3, 4, 5, 6)"
   ]
  },
  {
   "cell_type": "code",
   "execution_count": 26,
   "id": "850cbf24",
   "metadata": {},
   "outputs": [
    {
     "name": "stdout",
     "output_type": "stream",
     "text": [
      "10\n"
     ]
    }
   ],
   "source": [
    "# anonymous function - lambda\n",
    "\n",
    "# var = lambda var1, var2, varn: expr\n",
    "h = lambda num1, num2: num1*num2\n",
    "print(h(2, 5))"
   ]
  },
  {
   "cell_type": "code",
   "execution_count": 34,
   "id": "0db24cf3",
   "metadata": {},
   "outputs": [
    {
     "name": "stdout",
     "output_type": "stream",
     "text": [
      "[2, 4, 6, 8, 10]\n"
     ]
    }
   ],
   "source": [
    "# filter, map, reduce\n",
    "lst = list(range(1,11))\n",
    "lst\n",
    "\n",
    "# filter - filter(func, seq)\n",
    "func = lambda num: num%2==0\n",
    "print(list(filter(func, lst)))\n",
    "\n",
    "# OR\n",
    "\n",
    "# print(list(filter(lambda num: num%2==0, lst)))"
   ]
  },
  {
   "cell_type": "code",
   "execution_count": 28,
   "id": "ccd6e623",
   "metadata": {},
   "outputs": [
    {
     "name": "stdout",
     "output_type": "stream",
     "text": [
      "[2, 4, 6, 8, 10]\n"
     ]
    }
   ],
   "source": [
    "# Traditional code\n",
    "out_lst = []\n",
    "for i in lst:\n",
    "    if i%2 == 0:\n",
    "        out_lst.append(i)\n",
    "        \n",
    "print(out_lst)"
   ]
  },
  {
   "cell_type": "code",
   "execution_count": 37,
   "id": "2fd98439",
   "metadata": {},
   "outputs": [
    {
     "name": "stdout",
     "output_type": "stream",
     "text": [
      "[4, 8, 12, 16, 20, 24, 28, 32, 36, 40]\n"
     ]
    }
   ],
   "source": [
    "# map - map(func, seq)\n",
    "\n",
    "func = lambda num: num*4\n",
    "print(list(map(func, lst)))\n",
    "\n",
    "# OR\n",
    "\n",
    "# print(list(map(lambda num: num*4, lst)))"
   ]
  },
  {
   "cell_type": "code",
   "execution_count": 36,
   "id": "fef94d94",
   "metadata": {},
   "outputs": [
    {
     "name": "stdout",
     "output_type": "stream",
     "text": [
      "[4, 8, 12, 16, 20, 24, 28, 32, 36, 40]\n"
     ]
    }
   ],
   "source": [
    "# Traditional code\n",
    "out_lst = []\n",
    "for i in lst:\n",
    "    out_lst.append(i*4) \n",
    "print(out_lst)"
   ]
  },
  {
   "cell_type": "code",
   "execution_count": 2,
   "id": "c41c70e2",
   "metadata": {},
   "outputs": [
    {
     "name": "stdout",
     "output_type": "stream",
     "text": [
      "[1, 2, 3, 4, 5, 6, 7, 8, 9, 10]\n",
      "3628800\n"
     ]
    }
   ],
   "source": [
    "# reduce - reduce(func, seq)\n",
    "# import reduce before using it\n",
    "\n",
    "from functools import reduce\n",
    "print(reduce(lambda num1, num2: num1*num2, lst))"
   ]
  },
  {
   "cell_type": "code",
   "execution_count": 39,
   "id": "fabb3713",
   "metadata": {},
   "outputs": [
    {
     "name": "stdout",
     "output_type": "stream",
     "text": [
      "3628800\n"
     ]
    }
   ],
   "source": [
    "cnt = 1\n",
    "for i in lst:\n",
    "    cnt *= i\n",
    "print(cnt)"
   ]
  },
  {
   "cell_type": "code",
   "execution_count": null,
   "id": "482f359a",
   "metadata": {},
   "outputs": [],
   "source": []
  },
  {
   "cell_type": "code",
   "execution_count": null,
   "id": "fe59cf07",
   "metadata": {},
   "outputs": [],
   "source": []
  }
 ],
 "metadata": {
  "kernelspec": {
   "display_name": "Python 3 (ipykernel)",
   "language": "python",
   "name": "python3"
  },
  "language_info": {
   "codemirror_mode": {
    "name": "ipython",
    "version": 3
   },
   "file_extension": ".py",
   "mimetype": "text/x-python",
   "name": "python",
   "nbconvert_exporter": "python",
   "pygments_lexer": "ipython3",
   "version": "3.9.12"
  }
 },
 "nbformat": 4,
 "nbformat_minor": 5
}
