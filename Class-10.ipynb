{
 "cells": [
  {
   "cell_type": "code",
   "execution_count": 1,
   "id": "1500f40d",
   "metadata": {},
   "outputs": [
    {
     "name": "stdout",
     "output_type": "stream",
     "text": [
      "['__add__', '__class__', '__contains__', '__delattr__', '__dir__', '__doc__', '__eq__', '__format__', '__ge__', '__getattribute__', '__getitem__', '__getnewargs__', '__gt__', '__hash__', '__init__', '__init_subclass__', '__iter__', '__le__', '__len__', '__lt__', '__mod__', '__mul__', '__ne__', '__new__', '__reduce__', '__reduce_ex__', '__repr__', '__rmod__', '__rmul__', '__setattr__', '__sizeof__', '__str__', '__subclasshook__', 'capitalize', 'casefold', 'center', 'count', 'encode', 'endswith', 'expandtabs', 'find', 'format', 'format_map', 'index', 'isalnum', 'isalpha', 'isascii', 'isdecimal', 'isdigit', 'isidentifier', 'islower', 'isnumeric', 'isprintable', 'isspace', 'istitle', 'isupper', 'join', 'ljust', 'lower', 'lstrip', 'maketrans', 'partition', 'removeprefix', 'removesuffix', 'replace', 'rfind', 'rindex', 'rjust', 'rpartition', 'rsplit', 'rstrip', 'split', 'splitlines', 'startswith', 'strip', 'swapcase', 'title', 'translate', 'upper', 'zfill']\n"
     ]
    }
   ],
   "source": [
    "# Methods of string\n",
    "print(dir(str))"
   ]
  },
  {
   "cell_type": "code",
   "execution_count": 6,
   "id": "6e332169",
   "metadata": {},
   "outputs": [
    {
     "name": "stdout",
     "output_type": "stream",
     "text": [
      "False\n",
      "True\n",
      "False\n"
     ]
    }
   ],
   "source": [
    "# islower'\n",
    "\n",
    "strr1 = 'This is python'\n",
    "strr2 = 'python class'\n",
    "strr3 = 'PYTHON'\n",
    "\n",
    "print(strr3.islower())\n",
    "print(strr2.islower())\n",
    "print(strr1.islower())"
   ]
  },
  {
   "cell_type": "code",
   "execution_count": 19,
   "id": "a4837adf",
   "metadata": {},
   "outputs": [
    {
     "name": "stdout",
     "output_type": "stream",
     "text": [
      "True\n",
      "False\n",
      "False\n"
     ]
    }
   ],
   "source": [
    "# isupper\n",
    "\n",
    "strr1 = 'This is python'\n",
    "strr2 = 'python class'\n",
    "strr3 = 'PYTHON'\n",
    "\n",
    "print(strr3.isupper())\n",
    "print(strr2.isupper())\n",
    "print(strr1.isupper())"
   ]
  },
  {
   "cell_type": "code",
   "execution_count": 21,
   "id": "eae3a962",
   "metadata": {},
   "outputs": [
    {
     "name": "stdout",
     "output_type": "stream",
     "text": [
      "False\n",
      "False\n",
      "True\n"
     ]
    }
   ],
   "source": [
    "# istitle\n",
    "\n",
    "strr1 = 'This Is Python'\n",
    "strr2 = 'python class'\n",
    "strr3 = 'PYTHON'\n",
    "\n",
    "print(strr3.istitle())\n",
    "print(strr2.istitle())\n",
    "print(strr1.istitle())"
   ]
  },
  {
   "cell_type": "code",
   "execution_count": 11,
   "id": "f4c49c1b",
   "metadata": {},
   "outputs": [
    {
     "name": "stdout",
     "output_type": "stream",
     "text": [
      "True\n",
      "False\n",
      "True\n",
      "True\n"
     ]
    }
   ],
   "source": [
    "# isprintable\n",
    "\n",
    "print('python'.isprintable())\n",
    "print('python\\nclass'.isprintable())\n",
    "print(r'python\\nclass'.isprintable())\n",
    "print(''.isprintable())"
   ]
  },
  {
   "cell_type": "code",
   "execution_count": 18,
   "id": "15b2835a",
   "metadata": {},
   "outputs": [
    {
     "name": "stdout",
     "output_type": "stream",
     "text": [
      "False\n",
      "True\n",
      "True\n",
      "True\n",
      "True\n",
      "False\n"
     ]
    }
   ],
   "source": [
    "# 'isspace'\n",
    "\n",
    "print('python class'.isspace())\n",
    "print(' '.isspace())\n",
    "print('\\n'.isspace())\n",
    "print('\\t'.isspace())\n",
    "print('\\v'.isspace())\n",
    "print(''.isspace())"
   ]
  },
  {
   "cell_type": "code",
   "execution_count": 36,
   "id": "0ef02fb8",
   "metadata": {},
   "outputs": [
    {
     "name": "stdout",
     "output_type": "stream",
     "text": [
      "THIS IS PYTHON CLASS\n",
      "This is python claß\n",
      "This Is Python Claß\n",
      "this is python claß\n",
      "this is python class\n",
      "this is python class\n"
     ]
    }
   ],
   "source": [
    "r_str = 'This Is PyThOn ClAß'\n",
    "\n",
    "# upper\n",
    "print(r_str.upper())\n",
    "\n",
    "# capitalize\n",
    "print(r_str.capitalize())\n",
    "\n",
    "# title\n",
    "print(r_str.title())\n",
    "\n",
    "#lower\n",
    "print(r_str.lower())\n",
    "\n",
    "#casefold\n",
    "print(r_str.casefold())\n",
    "\n",
    "# multiple string methods\n",
    "print((r_str.upper()).lower())"
   ]
  },
  {
   "cell_type": "code",
   "execution_count": 38,
   "id": "c3d2e3ff",
   "metadata": {},
   "outputs": [
    {
     "name": "stdout",
     "output_type": "stream",
     "text": [
      "this is python class\n",
      "tHIS iS pYTHON cLASS\n",
      "tHIS IS PYTHON CLASS\n"
     ]
    }
   ],
   "source": [
    "# swapcase\n",
    "print(r_str.upper().swapcase())\n",
    "print(r_str.title().swapcase())\n",
    "print(r_str.capitalize().swapcase())"
   ]
  },
  {
   "cell_type": "code",
   "execution_count": 48,
   "id": "5cda8b1f",
   "metadata": {},
   "outputs": [
    {
     "name": "stdout",
     "output_type": "stream",
     "text": [
      "    This is python Class    \n",
      "This is python Class\n",
      "This is python Class    \n",
      "    This is python Class\n"
     ]
    }
   ],
   "source": [
    "# strip\n",
    "s_str = '    This is python Class    '\n",
    "print(s_str)\n",
    "print(s_str.strip())\n",
    "print(s_str.lstrip())\n",
    "print(s_str.rstrip())"
   ]
  },
  {
   "cell_type": "code",
   "execution_count": 53,
   "id": "286befd4",
   "metadata": {},
   "outputs": [
    {
     "name": "stdout",
     "output_type": "stream",
     "text": [
      "3\n",
      "6\n",
      "-1\n"
     ]
    }
   ],
   "source": [
    "# find\n",
    "\n",
    "print('This is python class'.find('s'))\n",
    "print('This is python class'.find('s', 5))\n",
    "print('This is python class'.find('z'))"
   ]
  },
  {
   "cell_type": "code",
   "execution_count": 55,
   "id": "8d56e722",
   "metadata": {},
   "outputs": [
    {
     "name": "stdout",
     "output_type": "stream",
     "text": [
      "3\n",
      "6\n"
     ]
    },
    {
     "ename": "ValueError",
     "evalue": "substring not found",
     "output_type": "error",
     "traceback": [
      "\u001b[1;31m---------------------------------------------------------------------------\u001b[0m",
      "\u001b[1;31mValueError\u001b[0m                                Traceback (most recent call last)",
      "Input \u001b[1;32mIn [55]\u001b[0m, in \u001b[0;36m<cell line: 5>\u001b[1;34m()\u001b[0m\n\u001b[0;32m      3\u001b[0m \u001b[38;5;28mprint\u001b[39m(\u001b[38;5;124m'\u001b[39m\u001b[38;5;124mThis is python class\u001b[39m\u001b[38;5;124m'\u001b[39m\u001b[38;5;241m.\u001b[39mindex(\u001b[38;5;124m'\u001b[39m\u001b[38;5;124ms\u001b[39m\u001b[38;5;124m'\u001b[39m))\n\u001b[0;32m      4\u001b[0m \u001b[38;5;28mprint\u001b[39m(\u001b[38;5;124m'\u001b[39m\u001b[38;5;124mThis is python class\u001b[39m\u001b[38;5;124m'\u001b[39m\u001b[38;5;241m.\u001b[39mindex(\u001b[38;5;124m'\u001b[39m\u001b[38;5;124ms\u001b[39m\u001b[38;5;124m'\u001b[39m, \u001b[38;5;241m5\u001b[39m))\n\u001b[1;32m----> 5\u001b[0m \u001b[38;5;28mprint\u001b[39m(\u001b[38;5;124;43m'\u001b[39;49m\u001b[38;5;124;43mThis is python class\u001b[39;49m\u001b[38;5;124;43m'\u001b[39;49m\u001b[38;5;241;43m.\u001b[39;49m\u001b[43mindex\u001b[49m\u001b[43m(\u001b[49m\u001b[38;5;124;43m'\u001b[39;49m\u001b[38;5;124;43mz\u001b[39;49m\u001b[38;5;124;43m'\u001b[39;49m\u001b[43m)\u001b[49m)\n",
      "\u001b[1;31mValueError\u001b[0m: substring not found"
     ]
    }
   ],
   "source": [
    "# index\n",
    "\n",
    "print('This is python class'.index('s'))\n",
    "print('This is python class'.index('s', 5))\n",
    "print('This is python class'.index('z'))"
   ]
  },
  {
   "cell_type": "code",
   "execution_count": 66,
   "id": "778e02d7",
   "metadata": {},
   "outputs": [
    {
     "name": "stdout",
     "output_type": "stream",
     "text": [
      "5\n",
      "19\n",
      "-1\n"
     ]
    }
   ],
   "source": [
    "# rfind\n",
    "\n",
    "print('This is python class'.rfind('i'))\n",
    "print('This is python class'.rfind('s', -15))\n",
    "print('This is python class'.rfind('z'))"
   ]
  },
  {
   "cell_type": "code",
   "execution_count": 67,
   "id": "c115eb69",
   "metadata": {},
   "outputs": [
    {
     "name": "stdout",
     "output_type": "stream",
     "text": [
      "5\n",
      "19\n"
     ]
    },
    {
     "ename": "ValueError",
     "evalue": "substring not found",
     "output_type": "error",
     "traceback": [
      "\u001b[1;31m---------------------------------------------------------------------------\u001b[0m",
      "\u001b[1;31mValueError\u001b[0m                                Traceback (most recent call last)",
      "Input \u001b[1;32mIn [67]\u001b[0m, in \u001b[0;36m<cell line: 5>\u001b[1;34m()\u001b[0m\n\u001b[0;32m      3\u001b[0m \u001b[38;5;28mprint\u001b[39m(\u001b[38;5;124m'\u001b[39m\u001b[38;5;124mThis is python class\u001b[39m\u001b[38;5;124m'\u001b[39m\u001b[38;5;241m.\u001b[39mrindex(\u001b[38;5;124m'\u001b[39m\u001b[38;5;124mi\u001b[39m\u001b[38;5;124m'\u001b[39m))\n\u001b[0;32m      4\u001b[0m \u001b[38;5;28mprint\u001b[39m(\u001b[38;5;124m'\u001b[39m\u001b[38;5;124mThis is python class\u001b[39m\u001b[38;5;124m'\u001b[39m\u001b[38;5;241m.\u001b[39mrindex(\u001b[38;5;124m'\u001b[39m\u001b[38;5;124ms\u001b[39m\u001b[38;5;124m'\u001b[39m, \u001b[38;5;241m-\u001b[39m\u001b[38;5;241m15\u001b[39m))\n\u001b[1;32m----> 5\u001b[0m \u001b[38;5;28mprint\u001b[39m(\u001b[38;5;124;43m'\u001b[39;49m\u001b[38;5;124;43mThis is python class\u001b[39;49m\u001b[38;5;124;43m'\u001b[39;49m\u001b[38;5;241;43m.\u001b[39;49m\u001b[43mrindex\u001b[49m\u001b[43m(\u001b[49m\u001b[38;5;124;43m'\u001b[39;49m\u001b[38;5;124;43mz\u001b[39;49m\u001b[38;5;124;43m'\u001b[39;49m\u001b[43m)\u001b[49m)\n",
      "\u001b[1;31mValueError\u001b[0m: substring not found"
     ]
    }
   ],
   "source": [
    "# rindex\n",
    "\n",
    "print('This is python class'.rindex('i'))\n",
    "print('This is python class'.rindex('s', -15))\n",
    "print('This is python class'.rindex('z'))"
   ]
  },
  {
   "cell_type": "code",
   "execution_count": 79,
   "id": "f57b437b",
   "metadata": {},
   "outputs": [
    {
     "name": "stdout",
     "output_type": "stream",
     "text": [
      "['This', 'is', 'python', 'class']\n",
      "['This', 'is python class']\n",
      "['Thi', ' i', ' python cla', '', '']\n"
     ]
    }
   ],
   "source": [
    "strr = 'This is python class'\n",
    "print(strr.split())\n",
    "print(strr.split(maxsplit= 1))\n",
    "print(strr.split(sep='s'))"
   ]
  },
  {
   "cell_type": "code",
   "execution_count": 84,
   "id": "d5fddc97",
   "metadata": {},
   "outputs": [
    {
     "name": "stdout",
     "output_type": "stream",
     "text": [
      "This is python webinar\n",
      "ThiPP iPP python class\n"
     ]
    }
   ],
   "source": [
    "# Replcae\n",
    "print(strr.replace('class', 'webinar'))\n",
    "print(strr.replace('s', 'PP', 2))"
   ]
  },
  {
   "cell_type": "code",
   "execution_count": 89,
   "id": "4fe10e45",
   "metadata": {},
   "outputs": [
    {
     "name": "stdout",
     "output_type": "stream",
     "text": [
      "True\n",
      "True\n",
      "True\n",
      "False\n"
     ]
    }
   ],
   "source": [
    "# startswith\n",
    "\n",
    "print('Python class'.startswith(\"P\"))\n",
    "print('Python class'.startswith(\"Py\"))\n",
    "print('Python class'.startswith(\"Python\"))\n",
    "print('Python class'.startswith(\"py\"))"
   ]
  },
  {
   "cell_type": "code",
   "execution_count": 90,
   "id": "5f12b9b7",
   "metadata": {},
   "outputs": [
    {
     "name": "stdout",
     "output_type": "stream",
     "text": [
      "True\n",
      "True\n",
      "True\n",
      "False\n"
     ]
    }
   ],
   "source": [
    "# endswith\n",
    "\n",
    "print('Python class'.endswith(\"s\"))\n",
    "print('Python class'.endswith(\"ss\"))\n",
    "print('Python class'.endswith(\"class\"))\n",
    "print('Python class'.endswith(\"Class\"))"
   ]
  }
 ],
 "metadata": {
  "kernelspec": {
   "display_name": "Python 3 (ipykernel)",
   "language": "python",
   "name": "python3"
  },
  "language_info": {
   "codemirror_mode": {
    "name": "ipython",
    "version": 3
   },
   "file_extension": ".py",
   "mimetype": "text/x-python",
   "name": "python",
   "nbconvert_exporter": "python",
   "pygments_lexer": "ipython3",
   "version": "3.9.12"
  }
 },
 "nbformat": 4,
 "nbformat_minor": 5
}
