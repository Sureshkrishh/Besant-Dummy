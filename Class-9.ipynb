{
 "cells": [
  {
   "cell_type": "code",
   "execution_count": 1,
   "id": "af36f99d",
   "metadata": {},
   "outputs": [
    {
     "name": "stdout",
     "output_type": "stream",
     "text": [
      "['__add__', '__class__', '__class_getitem__', '__contains__', '__delattr__', '__delitem__', '__dir__', '__doc__', '__eq__', '__format__', '__ge__', '__getattribute__', '__getitem__', '__gt__', '__hash__', '__iadd__', '__imul__', '__init__', '__init_subclass__', '__iter__', '__le__', '__len__', '__lt__', '__mul__', '__ne__', '__new__', '__reduce__', '__reduce_ex__', '__repr__', '__reversed__', '__rmul__', '__setattr__', '__setitem__', '__sizeof__', '__str__', '__subclasshook__', 'append', 'clear', 'copy', 'count', 'extend', 'index', 'insert', 'pop', 'remove', 'reverse', 'sort']\n"
     ]
    }
   ],
   "source": [
    "# Methods of list\n",
    "print(dir(list))"
   ]
  },
  {
   "cell_type": "code",
   "execution_count": 45,
   "id": "67f0ad06",
   "metadata": {},
   "outputs": [
    {
     "name": "stdout",
     "output_type": "stream",
     "text": [
      "[1, 2, 3.5, 60, 'Python', True, (56+3j)]\n"
     ]
    }
   ],
   "source": [
    "# append\n",
    "\n",
    "lst = [1, 2, 3.5, 60, 'Python', True, 56+3j]\n",
    "print(lst)"
   ]
  },
  {
   "cell_type": "code",
   "execution_count": 46,
   "id": "e514d2ad",
   "metadata": {},
   "outputs": [
    {
     "name": "stdout",
     "output_type": "stream",
     "text": [
      "[1, 2, 3.5, 60, 'Python', True, (56+3j), 'class', [5, 6, 7]]\n"
     ]
    }
   ],
   "source": [
    "lst.append('class')\n",
    "lst.append([5,6,7])\n",
    "print(lst)"
   ]
  },
  {
   "cell_type": "code",
   "execution_count": 47,
   "id": "1b79b608",
   "metadata": {},
   "outputs": [
    {
     "data": {
      "text/plain": [
       "[1, 2, 3.5, 60, 'Python', True, (56+3j), 'class', [5, 6, 7]]"
      ]
     },
     "execution_count": 47,
     "metadata": {},
     "output_type": "execute_result"
    }
   ],
   "source": [
    "# insert - to add element at particular index\n",
    "lst"
   ]
  },
  {
   "cell_type": "code",
   "execution_count": 48,
   "id": "9d34142c",
   "metadata": {},
   "outputs": [
    {
     "name": "stdout",
     "output_type": "stream",
     "text": [
      "[1, 2, '3', 3.5, 60, 'Python', True, (56+3j), 'class', [5, 6, 7]]\n"
     ]
    }
   ],
   "source": [
    "lst.insert(2, '3')\n",
    "print(lst)"
   ]
  },
  {
   "cell_type": "code",
   "execution_count": 49,
   "id": "edb43f3c",
   "metadata": {},
   "outputs": [
    {
     "name": "stdout",
     "output_type": "stream",
     "text": [
      "[1, 2, '3', 3.5, 60, 'Python', True, (56+3j), 'class', [5, 6, 7], 56, 89, 23, 15, 24]\n"
     ]
    }
   ],
   "source": [
    "# extend\n",
    "n_lst = [56, 89, 23, 15, 24]\n",
    "lst.extend(n_lst)\n",
    "print(lst)"
   ]
  },
  {
   "cell_type": "code",
   "execution_count": 50,
   "id": "7ff6858b",
   "metadata": {},
   "outputs": [
    {
     "name": "stdout",
     "output_type": "stream",
     "text": [
      "[1, 2, 3.5, 60, 'Python', True, (56+3j), 'class', [5, 6, 7], 56, 89, 23, 15]\n"
     ]
    }
   ],
   "source": [
    "# pop\n",
    "lst.pop()\n",
    "lst.pop(2)\n",
    "print(lst)"
   ]
  },
  {
   "cell_type": "code",
   "execution_count": 51,
   "id": "4c500b10",
   "metadata": {},
   "outputs": [
    {
     "name": "stdout",
     "output_type": "stream",
     "text": [
      "[1, 2, 5, 6, 8, 5, 2, 4]\n"
     ]
    }
   ],
   "source": [
    "# remove\n",
    "r_lst = [1,5,2,5,6,8,5,2,4]\n",
    "r_lst.remove(5)\n",
    "print(r_lst)"
   ]
  },
  {
   "cell_type": "code",
   "execution_count": 52,
   "id": "efaf12d1",
   "metadata": {},
   "outputs": [
    {
     "name": "stdout",
     "output_type": "stream",
     "text": [
      "[1, 2, 5, 6, 8, 5, 2, 4]\n",
      "[]\n"
     ]
    }
   ],
   "source": [
    "# clear\n",
    "print(r_lst)\n",
    "r_lst.clear()\n",
    "print(r_lst)"
   ]
  },
  {
   "cell_type": "code",
   "execution_count": 53,
   "id": "2e3c6a77",
   "metadata": {},
   "outputs": [
    {
     "name": "stdout",
     "output_type": "stream",
     "text": [
      "6\n",
      "3\n",
      "0\n"
     ]
    }
   ],
   "source": [
    "# Count\n",
    "c_lst = [1, 2, 5, 2, 5, 5, 6, 5, 2, 5, 9, 5]\n",
    "print(c_lst.count(5))\n",
    "print(c_lst.count(2))\n",
    "print(c_lst.count(50))"
   ]
  },
  {
   "cell_type": "code",
   "execution_count": 54,
   "id": "83f22e0e",
   "metadata": {},
   "outputs": [
    {
     "name": "stdout",
     "output_type": "stream",
     "text": [
      "2\n",
      "8\n"
     ]
    },
    {
     "ename": "ValueError",
     "evalue": "50 is not in list",
     "output_type": "error",
     "traceback": [
      "\u001b[1;31m---------------------------------------------------------------------------\u001b[0m",
      "\u001b[1;31mValueError\u001b[0m                                Traceback (most recent call last)",
      "Input \u001b[1;32mIn [54]\u001b[0m, in \u001b[0;36m<cell line: 5>\u001b[1;34m()\u001b[0m\n\u001b[0;32m      3\u001b[0m \u001b[38;5;28mprint\u001b[39m(c_lst\u001b[38;5;241m.\u001b[39mindex(\u001b[38;5;241m5\u001b[39m))\n\u001b[0;32m      4\u001b[0m \u001b[38;5;28mprint\u001b[39m(c_lst\u001b[38;5;241m.\u001b[39mindex(\u001b[38;5;241m2\u001b[39m,\u001b[38;5;241m5\u001b[39m))\n\u001b[1;32m----> 5\u001b[0m \u001b[38;5;28mprint\u001b[39m(\u001b[43mc_lst\u001b[49m\u001b[38;5;241;43m.\u001b[39;49m\u001b[43mindex\u001b[49m\u001b[43m(\u001b[49m\u001b[38;5;241;43m50\u001b[39;49m\u001b[43m)\u001b[49m)\n",
      "\u001b[1;31mValueError\u001b[0m: 50 is not in list"
     ]
    }
   ],
   "source": [
    "# index\n",
    "c_lst = [1, 2, 5, 2, 5, 5, 6, 5, 2, 5, 9, 5]\n",
    "print(c_lst.index(5))\n",
    "print(c_lst.index(2,5))\n",
    "print(c_lst.index(50))"
   ]
  },
  {
   "cell_type": "code",
   "execution_count": 55,
   "id": "9f3ce48c",
   "metadata": {},
   "outputs": [
    {
     "name": "stdout",
     "output_type": "stream",
     "text": [
      "[1, 2, 5, 2, 5, 5, 6, 5, 2, 5, 9, 5]\n",
      "[5, 9, 5, 2, 5, 6, 5, 5, 2, 5, 2, 1]\n"
     ]
    }
   ],
   "source": [
    "# reverse\n",
    "print(c_lst)\n",
    "c_lst.reverse()\n",
    "print(c_lst)"
   ]
  },
  {
   "cell_type": "code",
   "execution_count": 56,
   "id": "44c63699",
   "metadata": {},
   "outputs": [
    {
     "name": "stdout",
     "output_type": "stream",
     "text": [
      "[1, 2, 3.5, 60, 'Python', True, (56+3j), 'class', [5, 6, 7], 56, 89, 23, 15]\n"
     ]
    }
   ],
   "source": [
    "print(lst)\n",
    "lst.reverse()"
   ]
  },
  {
   "cell_type": "code",
   "execution_count": 57,
   "id": "fd315c84",
   "metadata": {},
   "outputs": [
    {
     "name": "stdout",
     "output_type": "stream",
     "text": [
      "[15, 23, 89, 56, [5, 6, 7], 'class', (56+3j), True, 'Python', 60, 3.5, 2, 1]\n"
     ]
    }
   ],
   "source": [
    "print(lst)"
   ]
  },
  {
   "cell_type": "code",
   "execution_count": 62,
   "id": "59682974",
   "metadata": {},
   "outputs": [
    {
     "name": "stdout",
     "output_type": "stream",
     "text": [
      "[1, 2, 5, 2, 5, 5, 6, 5, 2, 5, 9, 5]\n",
      "[9, 6, 5, 5, 5, 5, 5, 5, 2, 2, 2, 1]\n"
     ]
    }
   ],
   "source": [
    "# sort\n",
    "c_lst = [1, 2, 5, 2, 5, 5, 6, 5, 2, 5, 9, 5]\n",
    "print(c_lst)\n",
    "c_lst.sort(reverse=True)\n",
    "print(c_lst)"
   ]
  },
  {
   "cell_type": "code",
   "execution_count": 65,
   "id": "d1bedac7",
   "metadata": {},
   "outputs": [
    {
     "name": "stdout",
     "output_type": "stream",
     "text": [
      "[1, 10, 20, 30, 4, 5] 1645759557504\n",
      "[1, 10, 20, 30, 4, 5] 1645759557504\n",
      "[1, 10, 20, 30, 40, 5]\n",
      "[1, 10, 20, 30, 40, 5]\n"
     ]
    }
   ],
   "source": [
    "# Copy\n",
    "\n",
    "# Aliasing copy\n",
    "r_lst = [1, 10, 20, 30, 4, 5]\n",
    "a_lst = r_lst\n",
    "print(r_lst, id(r_lst))\n",
    "print(a_lst, id(a_lst))\n",
    "a_lst[-2] = 40\n",
    "print(r_lst, a_lst, sep='\\n')"
   ]
  },
  {
   "cell_type": "code",
   "execution_count": 67,
   "id": "06a65adf",
   "metadata": {},
   "outputs": [
    {
     "name": "stdout",
     "output_type": "stream",
     "text": [
      "[1, 10, 20, 30, 40, 5] 1645759557504\n",
      "[1, 10, 20, 30, 40, 5] 1645761731648\n",
      "[1, 10, 20, 30, 40, 5]\n",
      "[1, 10, 20, 30, 40, 50]\n"
     ]
    }
   ],
   "source": [
    "# Shallow copy\n",
    "s_lst = r_lst[::]\n",
    "print(r_lst, id(r_lst))\n",
    "print(s_lst, id(s_lst))\n",
    "s_lst[-1] = 50\n",
    "print(r_lst, s_lst, sep='\\n')"
   ]
  },
  {
   "cell_type": "code",
   "execution_count": 70,
   "id": "4531a11a",
   "metadata": {},
   "outputs": [
    {
     "name": "stdout",
     "output_type": "stream",
     "text": [
      "[1, 10, 20, 30, 4, [1100, 200, 300]] 1645757336960\n",
      "[1, 10, 20, 30, 4, [1100, 200, 300]] 1645764150784\n",
      "[1, 10, 20, 30, 4, [1100, 200, 300]]\n",
      "[1, 10, 20, 30, 50, [1100, 200, 300]]\n",
      "[1, 10, 20, 30, 4, [100, 200, 300]]\n",
      "[1, 10, 20, 30, 50, [100, 200, 300]]\n"
     ]
    }
   ],
   "source": [
    "n_lst = [1, 10, 20, 30, 4, [1100, 200, 300]]\n",
    "ns_lst = n_lst[::]\n",
    "print(n_lst, id(n_lst))\n",
    "print(ns_lst, id(ns_lst))\n",
    "ns_lst[-2] = 50\n",
    "print(n_lst, ns_lst, sep='\\n')\n",
    "ns_lst[-1][0] = 100\n",
    "print(n_lst, ns_lst, sep='\\n')"
   ]
  },
  {
   "cell_type": "code",
   "execution_count": 73,
   "id": "cc0f6854",
   "metadata": {},
   "outputs": [
    {
     "name": "stdout",
     "output_type": "stream",
     "text": [
      "[1, 10, 20, 30, 4, [100, 200, 300]] 1645757336960\n",
      "[1, 10, 20, 30, 4, [100, 200, 300]] 1645763279360\n",
      "[1, 10, 20, 30, 4, [100, 200, 300]]\n",
      "[1, 10, 20, 30, 50, [100, 200, 300]]\n",
      "[1, 10, 20, 30, 50, [10, 200, 300]]\n",
      "[1, 10, 20, 30, 4, [100, 200, 300]]\n"
     ]
    }
   ],
   "source": [
    "# deepcopy\n",
    "\n",
    "from copy import deepcopy\n",
    "dc_lst = deepcopy(n_lst)\n",
    "print(n_lst, id(n_lst))\n",
    "print(dc_lst, id(dc_lst))\n",
    "dc_lst[-2] = 50\n",
    "print(n_lst, dc_lst, sep='\\n')\n",
    "dc_lst[-1][0] = 10\n",
    "print(dc_lst, n_lst, sep='\\n')"
   ]
  },
  {
   "cell_type": "code",
   "execution_count": null,
   "id": "2a8a392f",
   "metadata": {},
   "outputs": [],
   "source": []
  }
 ],
 "metadata": {
  "kernelspec": {
   "display_name": "Python 3 (ipykernel)",
   "language": "python",
   "name": "python3"
  },
  "language_info": {
   "codemirror_mode": {
    "name": "ipython",
    "version": 3
   },
   "file_extension": ".py",
   "mimetype": "text/x-python",
   "name": "python",
   "nbconvert_exporter": "python",
   "pygments_lexer": "ipython3",
   "version": "3.9.12"
  }
 },
 "nbformat": 4,
 "nbformat_minor": 5
}
