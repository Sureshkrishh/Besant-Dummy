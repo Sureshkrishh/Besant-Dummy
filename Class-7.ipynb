{
 "cells": [
  {
   "cell_type": "code",
   "execution_count": null,
   "id": "55b3ed3b",
   "metadata": {},
   "outputs": [],
   "source": [
    "# Conditional statements - if elif and else\n",
    "\n",
    "# if condition:\n",
    "#     code\n",
    "# elif codition:\n",
    "#     code\n",
    "# elif condition:\n",
    "#     code\n",
    "# else:\n",
    "#     code"
   ]
  },
  {
   "cell_type": "code",
   "execution_count": 4,
   "id": "8312bc86",
   "metadata": {},
   "outputs": [
    {
     "name": "stdout",
     "output_type": "stream",
     "text": [
      "Enter a number between 1-5: 2\n",
      "Two\n"
     ]
    }
   ],
   "source": [
    "num = int(input('Enter a number between 1-5: '))\n",
    "\n",
    "if num == 1:\n",
    "    print('One')\n",
    "elif num == 2:\n",
    "    print('Two')\n",
    "elif num == 3:\n",
    "    print('Three')\n",
    "elif num == 4:\n",
    "    print('Four')\n",
    "elif num == 5:\n",
    "    print('Five')\n",
    "else:\n",
    "    print(\"Enter a valid number\")"
   ]
  },
  {
   "cell_type": "code",
   "execution_count": 9,
   "id": "fefb5635",
   "metadata": {},
   "outputs": [
    {
     "name": "stdout",
     "output_type": "stream",
     "text": [
      "Enter first number: 5\n",
      "Enter second number: 6\n",
      "Enter a value for operator:\n",
      "                1. Addition\n",
      "                2. Subtraction\n",
      "                3. Multiplication\n",
      "                4. Division\n",
      "10\n",
      "Enter a valid operator value\n"
     ]
    }
   ],
   "source": [
    "num1 = int(input('Enter first number: '))\n",
    "num2 = int(input('Enter second number: '))\n",
    "opp = int(input('Enter a value for operator:\\n\\\n",
    "                1. Addition\\n\\\n",
    "                2. Subtraction\\n\\\n",
    "                3. Multiplication\\n\\\n",
    "                4. Division\\n'))\n",
    "\n",
    "if opp == 1:\n",
    "    print(f'Addition of {num1} and {num2} is {num1+num2}')\n",
    "elif opp == 2:\n",
    "    print(f'Subtraction of {num1} and {num2} is {num1-num2}')\n",
    "elif opp == 3:\n",
    "    print(f'Multiplication of {num1} and {num2} is {num1*num2}')\n",
    "elif opp == 4:\n",
    "    if num2 == 0:\n",
    "        print('Number divided by zero is infinity')\n",
    "    else:\n",
    "        print(f'Division of {num1} and {num2} is {num1/num2}')\n",
    "else:\n",
    "    print('Enter a valid operator value')"
   ]
  },
  {
   "cell_type": "code",
   "execution_count": null,
   "id": "42323b2f",
   "metadata": {},
   "outputs": [],
   "source": [
    "# Loops - for, while\n",
    "\n",
    "# for var in seq:\n",
    "#     code\n",
    "#     code\n",
    "#     code\n",
    "\n",
    "# while condition:\n",
    "#     code\n",
    "#     code\n",
    "#     code\n",
    "#     inc/dec"
   ]
  },
  {
   "cell_type": "code",
   "execution_count": 13,
   "id": "53cca8ec",
   "metadata": {},
   "outputs": [
    {
     "name": "stdout",
     "output_type": "stream",
     "text": [
      "Enter a string: Good morning\n",
      "12\n"
     ]
    }
   ],
   "source": [
    "strr = input('Enter a string: ')\n",
    "\n",
    "cnt = 0\n",
    "for letter in strr:\n",
    "    cnt += 1\n",
    "\n",
    "print(cnt)"
   ]
  },
  {
   "cell_type": "code",
   "execution_count": null,
   "id": "b60f7e8c",
   "metadata": {},
   "outputs": [],
   "source": [
    "strr = input('Enter a string: ')\n",
    "\n",
    "out_str = ''\n",
    "for letter in strr:\n",
    "    out_str = letter + out_str\n",
    "\n",
    "    \n",
    "print(out_str)"
   ]
  },
  {
   "cell_type": "code",
   "execution_count": 39,
   "id": "892cd375",
   "metadata": {},
   "outputs": [
    {
     "name": "stdout",
     "output_type": "stream",
     "text": [
      "1\n",
      "2\n",
      "3\n",
      "4\n"
     ]
    }
   ],
   "source": [
    "# Loop control - continue, break\n",
    "\n",
    "for i in list(range(1,11)):\n",
    "    if i in [5, 6, 8]:\n",
    "        break\n",
    "    else:\n",
    "        print(i)"
   ]
  },
  {
   "cell_type": "code",
   "execution_count": 49,
   "id": "a1f11403",
   "metadata": {},
   "outputs": [
    {
     "name": "stdout",
     "output_type": "stream",
     "text": [
      "Enter a string: This is python class\n",
      "['This', 'is', 'python', 'class']\n"
     ]
    }
   ],
   "source": [
    "sent = input('Enter a string: ')\n",
    "\n",
    "sent += ' '\n",
    "out_strr = ''\n",
    "out_lst = []\n",
    "\n",
    "for letter in sent:\n",
    "    if letter == ' ':\n",
    "        out_lst.append(out_strr)\n",
    "        out_strr = ''\n",
    "    else:\n",
    "        out_strr += letter\n",
    "        \n",
    "print(out_lst)"
   ]
  }
 ],
 "metadata": {
  "kernelspec": {
   "display_name": "Python 3 (ipykernel)",
   "language": "python",
   "name": "python3"
  },
  "language_info": {
   "codemirror_mode": {
    "name": "ipython",
    "version": 3
   },
   "file_extension": ".py",
   "mimetype": "text/x-python",
   "name": "python",
   "nbconvert_exporter": "python",
   "pygments_lexer": "ipython3",
   "version": "3.9.12"
  }
 },
 "nbformat": 4,
 "nbformat_minor": 5
}
