{
 "cells": [
  {
   "cell_type": "code",
   "execution_count": 3,
   "id": "9934271b",
   "metadata": {},
   "outputs": [
    {
     "name": "stdout",
     "output_type": "stream",
     "text": [
      "12\n"
     ]
    }
   ],
   "source": [
    "strr = 'python class'\n",
    "print(len(strr))"
   ]
  },
  {
   "cell_type": "code",
   "execution_count": null,
   "id": "fe6887bd",
   "metadata": {},
   "outputs": [],
   "source": [
    "# Sequence - Any data type that can be indexed or sliced\n",
    "\n",
    "# +0   1   2   3   4   5     ----> positive indexing\n",
    "#  P   Y   T   H   O   N\n",
    "# -6  -5  -4  -3  -2  -1     ----> negative indexing"
   ]
  },
  {
   "cell_type": "code",
   "execution_count": 2,
   "id": "c6058d2b",
   "metadata": {},
   "outputs": [
    {
     "name": "stdout",
     "output_type": "stream",
     "text": [
      "p\n",
      "n\n",
      "a\n",
      "s\n"
     ]
    }
   ],
   "source": [
    "# Indexing -  accessing / extracting one element at a time\n",
    "\n",
    "strr = 'python class'\n",
    "print(strr[0])\n",
    "print(strr[5])\n",
    "print(strr[-3])\n",
    "print(strr[11])\n",
    "# print(strr[12]) # Index error"
   ]
  },
  {
   "cell_type": "code",
   "execution_count": 24,
   "id": "9bebf592",
   "metadata": {},
   "outputs": [
    {
     "name": "stdout",
     "output_type": "stream",
     "text": [
      "ytho\n",
      "class\n",
      "pto ls\n",
      "ph a\n",
      "yhncas\n",
      "ssalc nohtyp\n",
      "class\n",
      "hon cla\n"
     ]
    }
   ],
   "source": [
    "# Slicing - var[start:stop+1:step] - var[0:len(var):1]\n",
    "\n",
    "strr = 'python class'\n",
    "print(strr[1:5])\n",
    "print(strr[7:])\n",
    "print(strr[::2])\n",
    "print(strr[::3])\n",
    "print(strr[1::2])\n",
    "print(strr[::-1])\n",
    "print(strr[-5:])\n",
    "print(strr[-9:-2])"
   ]
  },
  {
   "cell_type": "code",
   "execution_count": null,
   "id": "45128062",
   "metadata": {},
   "outputs": [],
   "source": [
    "# Derived data types - list, tuple, set, frozenset, dictionary, range"
   ]
  },
  {
   "cell_type": "code",
   "execution_count": null,
   "id": "d646ea17",
   "metadata": {},
   "outputs": [],
   "source": []
  },
  {
   "cell_type": "code",
   "execution_count": null,
   "id": "52973b5d",
   "metadata": {},
   "outputs": [],
   "source": []
  },
  {
   "cell_type": "code",
   "execution_count": null,
   "id": "a43859dc",
   "metadata": {},
   "outputs": [],
   "source": []
  },
  {
   "cell_type": "code",
   "execution_count": null,
   "id": "9a81a600",
   "metadata": {},
   "outputs": [],
   "source": []
  }
 ],
 "metadata": {
  "kernelspec": {
   "display_name": "Python 3 (ipykernel)",
   "language": "python",
   "name": "python3"
  },
  "language_info": {
   "codemirror_mode": {
    "name": "ipython",
    "version": 3
   },
   "file_extension": ".py",
   "mimetype": "text/x-python",
   "name": "python",
   "nbconvert_exporter": "python",
   "pygments_lexer": "ipython3",
   "version": "3.9.12"
  }
 },
 "nbformat": 4,
 "nbformat_minor": 5
}
