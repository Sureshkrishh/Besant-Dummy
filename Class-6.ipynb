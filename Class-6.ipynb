{
 "cells": [
  {
   "cell_type": "code",
   "execution_count": null,
   "id": "55f5378a",
   "metadata": {},
   "outputs": [],
   "source": [
    "# Derived data types - list, tuple, set, dictionary, range"
   ]
  },
  {
   "cell_type": "code",
   "execution_count": 23,
   "id": "154809a6",
   "metadata": {},
   "outputs": [
    {
     "name": "stdout",
     "output_type": "stream",
     "text": [
      "[10, 56.3, (8+3j), 'python', 10, None, True]\n",
      "<class 'list'>\n",
      "1857741818624\n",
      "python\n",
      "[56.3, (8+3j), 'python', 10]\n",
      "[10, 56.3, (8+3j), 'python', 10, None, False]\n"
     ]
    }
   ],
   "source": [
    "# list - [], hetro, mutable, sequence\n",
    "\n",
    "lst = [10, 56.3, 8+3j, 'python', 10, None, True]\n",
    "print(lst, type(lst), id(lst), sep='\\n')\n",
    "print(lst[3])\n",
    "print(lst[1:5])\n",
    "lst[-1] = False\n",
    "print(lst)"
   ]
  },
  {
   "cell_type": "code",
   "execution_count": 12,
   "id": "bdfedad1",
   "metadata": {},
   "outputs": [
    {
     "name": "stdout",
     "output_type": "stream",
     "text": [
      "[101, 202, 303, 404]\n",
      "404\n",
      "[202, 303]\n"
     ]
    }
   ],
   "source": [
    "# nested list\n",
    "n_lst = [10, 20, 30, [101, 202, 303, 404], 'python', True, 26.5, 20.3]\n",
    "print(n_lst[3])\n",
    "print(n_lst[3][-1])\n",
    "print(n_lst[3][1:3])"
   ]
  },
  {
   "cell_type": "code",
   "execution_count": 24,
   "id": "0c904ac4",
   "metadata": {},
   "outputs": [
    {
     "name": "stdout",
     "output_type": "stream",
     "text": [
      "(10, 56.3, (8+3j), 'python', 10, None, True)\n",
      "<class 'tuple'>\n",
      "1857742071168\n",
      "python\n",
      "(56.3, (8+3j), 'python', 10)\n"
     ]
    }
   ],
   "source": [
    "# tuple - (), hetro,immutable, sequence\n",
    "tpl = (10, 56.3, 8+3j, 'python', 10, None, True)\n",
    "print(tpl, type(tpl), id(tpl), sep='\\n')\n",
    "print(tpl[3])\n",
    "print(tpl[1:5])"
   ]
  },
  {
   "cell_type": "code",
   "execution_count": 22,
   "id": "e8cbecea",
   "metadata": {},
   "outputs": [
    {
     "name": "stdout",
     "output_type": "stream",
     "text": [
      "('python', 'class', [101, 'BT', 'Tech', 404], 'ml', 'dl')\n",
      "[101, 'BT', 'Tech', 404]\n",
      "404\n",
      "['BT', 'Tech']\n",
      "(10, 20, 30, ('python', 'class', [101, 102, 103, 404], 'ml', 'dl'))\n"
     ]
    }
   ],
   "source": [
    "# nested list and tuple\n",
    "n_tlst = (10, 20, 30, ('python', 'class',  [101, 'BT', 'Tech', 404], 'ml', 'dl'))\n",
    "print(n_tlst[-1])\n",
    "print(n_tlst[-1][2])\n",
    "print(n_tlst[-1][2][-1])\n",
    "print(n_tlst[-1][2][1:3])\n",
    "n_tlst[-1][2][1:3] = [102, 103]\n",
    "print(n_tlst)"
   ]
  },
  {
   "cell_type": "code",
   "execution_count": 26,
   "id": "9c7bc5fa",
   "metadata": {},
   "outputs": [
    {
     "name": "stdout",
     "output_type": "stream",
     "text": [
      "{True, (8+3j), 'python', 56.3, 10, 'This is python class', None}\n",
      "<class 'set'>\n",
      "1857742085248\n"
     ]
    }
   ],
   "source": [
    "# Set - {}, hetro, mutable, not a sequence, remove duplicates\n",
    "\n",
    "st = {10, 56.3, 8+3j, 'python', 10, None, True}\n",
    "print(st, type(st), id(st), sep='\\n')"
   ]
  },
  {
   "cell_type": "code",
   "execution_count": 33,
   "id": "eb3f38f6",
   "metadata": {},
   "outputs": [
    {
     "name": "stdout",
     "output_type": "stream",
     "text": [
      "[10, 20, 30, ('python', 'class', {'Tech', 404, 101, 'BT'}, 'ml', 'dl')]\n",
      "('python', 'class', {'Tech', 404, 101, 'BT'}, 'ml', 'dl')\n",
      "{'Tech', 404, 101, 'BT'}\n"
     ]
    }
   ],
   "source": [
    "# nested list, tuple, set\n",
    "n_stlst = [10, 20, 30, ('python', 'class',  {101, 'BT', 'Tech', 404}, 'ml', 'dl')]\n",
    "print(n_stlst)\n",
    "print(n_stlst[-1])\n",
    "print(n_stlst[-1][2])"
   ]
  },
  {
   "cell_type": "code",
   "execution_count": 38,
   "id": "0bcc636b",
   "metadata": {},
   "outputs": [
    {
     "name": "stdout",
     "output_type": "stream",
     "text": [
      "{1: 100, 2: 200, 3: 300, 4: 400}\n",
      "<class 'dict'>\n",
      "1857770080576\n",
      "100\n"
     ]
    }
   ],
   "source": [
    "# dictionary - {key: value}, not sequence\n",
    "dt = {1:100, 2:200, 3:300, 4:400}\n",
    "print(dt, type(dt), id(dt), sep='\\n')\n",
    "print(dt[1])"
   ]
  },
  {
   "cell_type": "code",
   "execution_count": 41,
   "id": "18fc6929",
   "metadata": {},
   "outputs": [
    {
     "name": "stdout",
     "output_type": "stream",
     "text": [
      "{1: 100, 2: 'Python', 3: True, 4: (400, 500), 5: True}\n"
     ]
    }
   ],
   "source": [
    "# Dict values - anythng can be passed as value\n",
    "dt1 = {1:100, 2:'Python', 3:True, 4:(400, 500), 5:True}\n",
    "print(dt1)"
   ]
  },
  {
   "cell_type": "code",
   "execution_count": 45,
   "id": "76080825",
   "metadata": {},
   "outputs": [
    {
     "name": "stdout",
     "output_type": "stream",
     "text": [
      "{1: True, 2: 'Python', 3: True, 4: (400, 500)}\n",
      "{1: 100, 2: 'Python', 3: True, 4: (400, 500), (5, 6): True}\n"
     ]
    }
   ],
   "source": [
    "# Dict keys - should not be dupliacted, mutable dt cant be a key, immutable dt can be a key\n",
    "dt2 = {1:100, 2:'Python', 3:True, 4:(400, 500), 1:True}\n",
    "print(dt2)\n",
    "# dt3 = {1:100, 2:'Python', 3:True, 4:(400, 500), [5, 6]:True}\n",
    "# print(dt3)\n",
    "dt4 = {1:100, 2:'Python', 3:True, 4:(400, 500), (5, 6):True}\n",
    "print(dt4)"
   ]
  },
  {
   "cell_type": "code",
   "execution_count": 48,
   "id": "8287506e",
   "metadata": {},
   "outputs": [
    {
     "name": "stdout",
     "output_type": "stream",
     "text": [
      "{'emp_id': 'E101', 'e_name': 'Suresh', 'Age': 25, 'Phno': 8939152272, 'mail': 'sarakrishna.k@gmail.com'}\n"
     ]
    }
   ],
   "source": [
    "# Simple dict\n",
    "emp_data = {'emp_id': 'E101', \n",
    "            'e_name': 'Suresh', \n",
    "            'Age': 25, \n",
    "            'Phno': 8939152272, \n",
    "            'mail': 'sarakrishna.k@gmail.com'}\n",
    "print(emp_data)"
   ]
  },
  {
   "cell_type": "code",
   "execution_count": 57,
   "id": "23f7b598",
   "metadata": {},
   "outputs": [
    {
     "name": "stdout",
     "output_type": "stream",
     "text": [
      "[6, 12, 18, 24, 30, 36, 42, 48, 54, 60, 66, 72, 78, 84, 90, 96]\n"
     ]
    }
   ],
   "source": [
    "# Range - object data type - range(start, stop+1, step)\n",
    "\n",
    "rng = list(range(6, 101, 6))\n",
    "print(rng)"
   ]
  }
 ],
 "metadata": {
  "kernelspec": {
   "display_name": "Python 3 (ipykernel)",
   "language": "python",
   "name": "python3"
  },
  "language_info": {
   "codemirror_mode": {
    "name": "ipython",
    "version": 3
   },
   "file_extension": ".py",
   "mimetype": "text/x-python",
   "name": "python",
   "nbconvert_exporter": "python",
   "pygments_lexer": "ipython3",
   "version": "3.9.12"
  }
 },
 "nbformat": 4,
 "nbformat_minor": 5
}
